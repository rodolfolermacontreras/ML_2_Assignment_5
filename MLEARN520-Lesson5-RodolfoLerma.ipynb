{
 "cells": [
  {
   "cell_type": "markdown",
   "metadata": {},
   "source": [
    "# SVM (Assignment 5)\n",
    "\n",
    "## Student: Rodolfo Lerma\n",
    "\n",
    "In this assignment, you will implement a Support Vector Machine Classifier  from scratch and compare the results to existing sklearn algorithm. "
   ]
  },
  {
   "cell_type": "code",
   "execution_count": 1,
   "metadata": {},
   "outputs": [],
   "source": [
    "# import packages\n",
    "%matplotlib inline\n",
    "import numpy as np\n",
    "import matplotlib.pyplot as plt\n",
    "import seaborn as sns\n",
    "import pandas as pd\n",
    "from matplotlib.legend_handler import HandlerLine2D\n",
    "from sklearn.metrics import accuracy_score\n",
    "from sklearn.metrics import precision_score\n",
    "from sklearn.metrics import recall_score\n",
    "from sklearn.metrics import confusion_matrix\n",
    "# from sklearn.metrics import mean_squared_error\n",
    "# from sklearn.metrics import mean_absolute_error\n",
    "# from sklearn.tree import DecisionTreeClassifier\n",
    "# from sklearn.tree import DecisionTreeRegressor\n",
    "from sklearn.model_selection import GridSearchCV\n",
    "from sklearn.model_selection import train_test_split\n",
    "from sklearn.utils import shuffle\n",
    "\n",
    "# make this notebook's output stable across runs\n",
    "np.random.seed(0)"
   ]
  },
  {
   "cell_type": "markdown",
   "metadata": {},
   "source": [
    "## Data Exploration"
   ]
  },
  {
   "cell_type": "code",
   "execution_count": 2,
   "metadata": {},
   "outputs": [],
   "source": [
    "df = pd.read_csv('data_banknote_authentication.csv', header = None )"
   ]
  },
  {
   "cell_type": "code",
   "execution_count": 3,
   "metadata": {},
   "outputs": [
    {
     "data": {
      "text/html": [
       "<div>\n",
       "<style scoped>\n",
       "    .dataframe tbody tr th:only-of-type {\n",
       "        vertical-align: middle;\n",
       "    }\n",
       "\n",
       "    .dataframe tbody tr th {\n",
       "        vertical-align: top;\n",
       "    }\n",
       "\n",
       "    .dataframe thead th {\n",
       "        text-align: right;\n",
       "    }\n",
       "</style>\n",
       "<table border=\"1\" class=\"dataframe\">\n",
       "  <thead>\n",
       "    <tr style=\"text-align: right;\">\n",
       "      <th></th>\n",
       "      <th>0</th>\n",
       "      <th>1</th>\n",
       "      <th>2</th>\n",
       "      <th>3</th>\n",
       "      <th>4</th>\n",
       "    </tr>\n",
       "  </thead>\n",
       "  <tbody>\n",
       "    <tr>\n",
       "      <th>0</th>\n",
       "      <td>3.62160</td>\n",
       "      <td>8.6661</td>\n",
       "      <td>-2.8073</td>\n",
       "      <td>-0.44699</td>\n",
       "      <td>0</td>\n",
       "    </tr>\n",
       "    <tr>\n",
       "      <th>1</th>\n",
       "      <td>4.54590</td>\n",
       "      <td>8.1674</td>\n",
       "      <td>-2.4586</td>\n",
       "      <td>-1.46210</td>\n",
       "      <td>0</td>\n",
       "    </tr>\n",
       "    <tr>\n",
       "      <th>2</th>\n",
       "      <td>3.86600</td>\n",
       "      <td>-2.6383</td>\n",
       "      <td>1.9242</td>\n",
       "      <td>0.10645</td>\n",
       "      <td>0</td>\n",
       "    </tr>\n",
       "    <tr>\n",
       "      <th>3</th>\n",
       "      <td>3.45660</td>\n",
       "      <td>9.5228</td>\n",
       "      <td>-4.0112</td>\n",
       "      <td>-3.59440</td>\n",
       "      <td>0</td>\n",
       "    </tr>\n",
       "    <tr>\n",
       "      <th>4</th>\n",
       "      <td>0.32924</td>\n",
       "      <td>-4.4552</td>\n",
       "      <td>4.5718</td>\n",
       "      <td>-0.98880</td>\n",
       "      <td>0</td>\n",
       "    </tr>\n",
       "  </tbody>\n",
       "</table>\n",
       "</div>"
      ],
      "text/plain": [
       "         0       1       2        3  4\n",
       "0  3.62160  8.6661 -2.8073 -0.44699  0\n",
       "1  4.54590  8.1674 -2.4586 -1.46210  0\n",
       "2  3.86600 -2.6383  1.9242  0.10645  0\n",
       "3  3.45660  9.5228 -4.0112 -3.59440  0\n",
       "4  0.32924 -4.4552  4.5718 -0.98880  0"
      ]
     },
     "execution_count": 3,
     "metadata": {},
     "output_type": "execute_result"
    }
   ],
   "source": [
    "df.head()"
   ]
  },
  {
   "cell_type": "code",
   "execution_count": 4,
   "metadata": {},
   "outputs": [
    {
     "data": {
      "text/plain": [
       "(1372, 5)"
      ]
     },
     "execution_count": 4,
     "metadata": {},
     "output_type": "execute_result"
    }
   ],
   "source": [
    "df.shape"
   ]
  },
  {
   "cell_type": "markdown",
   "metadata": {},
   "source": [
    "The dataset has 5 features and 1372 rows."
   ]
  },
  {
   "cell_type": "code",
   "execution_count": 5,
   "metadata": {},
   "outputs": [
    {
     "data": {
      "text/plain": [
       "0    float64\n",
       "1    float64\n",
       "2    float64\n",
       "3    float64\n",
       "4      int64\n",
       "dtype: object"
      ]
     },
     "execution_count": 5,
     "metadata": {},
     "output_type": "execute_result"
    }
   ],
   "source": [
    "df.dtypes"
   ]
  },
  {
   "cell_type": "code",
   "execution_count": 6,
   "metadata": {},
   "outputs": [
    {
     "data": {
      "text/plain": [
       "0    0\n",
       "1    0\n",
       "2    0\n",
       "3    0\n",
       "4    0\n",
       "dtype: int64"
      ]
     },
     "execution_count": 6,
     "metadata": {},
     "output_type": "execute_result"
    }
   ],
   "source": [
    "df.isnull().sum()"
   ]
  },
  {
   "cell_type": "markdown",
   "metadata": {},
   "source": [
    "There are no missing values in the dataset.\n",
    "\n",
    "\n",
    "4 input features are numeric and the target variable is binary."
   ]
  },
  {
   "cell_type": "code",
   "execution_count": 7,
   "metadata": {},
   "outputs": [
    {
     "data": {
      "text/html": [
       "<div>\n",
       "<style scoped>\n",
       "    .dataframe tbody tr th:only-of-type {\n",
       "        vertical-align: middle;\n",
       "    }\n",
       "\n",
       "    .dataframe tbody tr th {\n",
       "        vertical-align: top;\n",
       "    }\n",
       "\n",
       "    .dataframe thead th {\n",
       "        text-align: right;\n",
       "    }\n",
       "</style>\n",
       "<table border=\"1\" class=\"dataframe\">\n",
       "  <thead>\n",
       "    <tr style=\"text-align: right;\">\n",
       "      <th></th>\n",
       "      <th>0</th>\n",
       "      <th>1</th>\n",
       "      <th>2</th>\n",
       "      <th>3</th>\n",
       "      <th>4</th>\n",
       "    </tr>\n",
       "  </thead>\n",
       "  <tbody>\n",
       "    <tr>\n",
       "      <th>count</th>\n",
       "      <td>1372.000000</td>\n",
       "      <td>1372.000000</td>\n",
       "      <td>1372.000000</td>\n",
       "      <td>1372.000000</td>\n",
       "      <td>1372.000000</td>\n",
       "    </tr>\n",
       "    <tr>\n",
       "      <th>mean</th>\n",
       "      <td>0.433735</td>\n",
       "      <td>1.922353</td>\n",
       "      <td>1.397627</td>\n",
       "      <td>-1.191657</td>\n",
       "      <td>0.444606</td>\n",
       "    </tr>\n",
       "    <tr>\n",
       "      <th>std</th>\n",
       "      <td>2.842763</td>\n",
       "      <td>5.869047</td>\n",
       "      <td>4.310030</td>\n",
       "      <td>2.101013</td>\n",
       "      <td>0.497103</td>\n",
       "    </tr>\n",
       "    <tr>\n",
       "      <th>min</th>\n",
       "      <td>-7.042100</td>\n",
       "      <td>-13.773100</td>\n",
       "      <td>-5.286100</td>\n",
       "      <td>-8.548200</td>\n",
       "      <td>0.000000</td>\n",
       "    </tr>\n",
       "    <tr>\n",
       "      <th>25%</th>\n",
       "      <td>-1.773000</td>\n",
       "      <td>-1.708200</td>\n",
       "      <td>-1.574975</td>\n",
       "      <td>-2.413450</td>\n",
       "      <td>0.000000</td>\n",
       "    </tr>\n",
       "    <tr>\n",
       "      <th>50%</th>\n",
       "      <td>0.496180</td>\n",
       "      <td>2.319650</td>\n",
       "      <td>0.616630</td>\n",
       "      <td>-0.586650</td>\n",
       "      <td>0.000000</td>\n",
       "    </tr>\n",
       "    <tr>\n",
       "      <th>75%</th>\n",
       "      <td>2.821475</td>\n",
       "      <td>6.814625</td>\n",
       "      <td>3.179250</td>\n",
       "      <td>0.394810</td>\n",
       "      <td>1.000000</td>\n",
       "    </tr>\n",
       "    <tr>\n",
       "      <th>max</th>\n",
       "      <td>6.824800</td>\n",
       "      <td>12.951600</td>\n",
       "      <td>17.927400</td>\n",
       "      <td>2.449500</td>\n",
       "      <td>1.000000</td>\n",
       "    </tr>\n",
       "  </tbody>\n",
       "</table>\n",
       "</div>"
      ],
      "text/plain": [
       "                 0            1            2            3            4\n",
       "count  1372.000000  1372.000000  1372.000000  1372.000000  1372.000000\n",
       "mean      0.433735     1.922353     1.397627    -1.191657     0.444606\n",
       "std       2.842763     5.869047     4.310030     2.101013     0.497103\n",
       "min      -7.042100   -13.773100    -5.286100    -8.548200     0.000000\n",
       "25%      -1.773000    -1.708200    -1.574975    -2.413450     0.000000\n",
       "50%       0.496180     2.319650     0.616630    -0.586650     0.000000\n",
       "75%       2.821475     6.814625     3.179250     0.394810     1.000000\n",
       "max       6.824800    12.951600    17.927400     2.449500     1.000000"
      ]
     },
     "execution_count": 7,
     "metadata": {},
     "output_type": "execute_result"
    }
   ],
   "source": [
    "df.describe()"
   ]
  },
  {
   "cell_type": "code",
   "execution_count": 8,
   "metadata": {},
   "outputs": [],
   "source": [
    "features = df.columns.to_list()\n",
    "features.remove(4)"
   ]
  },
  {
   "cell_type": "code",
   "execution_count": 9,
   "metadata": {},
   "outputs": [
    {
     "data": {
      "image/png": "[encoded data removed]",
      "text/plain": [
       "<Figure size 720x576 with 4 Axes>"
      ]
     },
     "metadata": {
      "needs_background": "light"
     },
     "output_type": "display_data"
    }
   ],
   "source": [
    "df[features].hist(figsize = (10,8))\n",
    "plt.show()"
   ]
  },
  {
   "cell_type": "code",
   "execution_count": 10,
   "metadata": {},
   "outputs": [
    {
     "name": "stderr",
     "output_type": "stream",
     "text": [
      "C:\\Users\\rodol\\Anaconda3\\lib\\site-packages\\seaborn\\distributions.py:2557: FutureWarning: `distplot` is a deprecated function and will be removed in a future version. Please adapt your code to use either `displot` (a figure-level function with similar flexibility) or `histplot` (an axes-level function for histograms).\n",
      "  warnings.warn(msg, FutureWarning)\n",
      "C:\\Users\\rodol\\Anaconda3\\lib\\site-packages\\seaborn\\distributions.py:2557: FutureWarning: `distplot` is a deprecated function and will be removed in a future version. Please adapt your code to use either `displot` (a figure-level function with similar flexibility) or `histplot` (an axes-level function for histograms).\n",
      "  warnings.warn(msg, FutureWarning)\n",
      "C:\\Users\\rodol\\Anaconda3\\lib\\site-packages\\seaborn\\distributions.py:2557: FutureWarning: `distplot` is a deprecated function and will be removed in a future version. Please adapt your code to use either `displot` (a figure-level function with similar flexibility) or `histplot` (an axes-level function for histograms).\n",
      "  warnings.warn(msg, FutureWarning)\n",
      "C:\\Users\\rodol\\Anaconda3\\lib\\site-packages\\seaborn\\distributions.py:2557: FutureWarning: `distplot` is a deprecated function and will be removed in a future version. Please adapt your code to use either `displot` (a figure-level function with similar flexibility) or `histplot` (an axes-level function for histograms).\n",
      "  warnings.warn(msg, FutureWarning)\n"
     ]
    },
    {
     "data": {
      "image/png": "[encoded data removed]",
      "text/plain": [
       "<Figure size 432x288 with 1 Axes>"
      ]
     },
     "metadata": {
      "needs_background": "light"
     },
     "output_type": "display_data"
    }
   ],
   "source": [
    "# Density Plot and Histogram of all arrival delays\n",
    "import seaborn as sns\n",
    "\n",
    "for i in features: \n",
    "    sns.distplot(df[i], hist=True, kde=True, \n",
    "                 bins=int(180/5), color = 'darkblue', \n",
    "                 hist_kws={'edgecolor':'black'},\n",
    "                 kde_kws={'linewidth': 4})"
   ]
  },
  {
   "cell_type": "code",
   "execution_count": 11,
   "metadata": {},
   "outputs": [
    {
     "name": "stderr",
     "output_type": "stream",
     "text": [
      "<ipython-input-11-1b5e43124d83>:3: DeprecationWarning: `np.bool` is a deprecated alias for the builtin `bool`. To silence this warning, use `bool` by itself. Doing this will not modify any behavior and is safe. If you specifically wanted the numpy scalar type, use `np.bool_` here.\n",
      "Deprecated in NumPy 1.20; for more details and guidance: https://numpy.org/devdocs/release/1.20.0-notes.html#deprecations\n",
      "  mask = np.logical_not(np.tril(np.ones_like(corr, dtype=np.bool)))\n"
     ]
    },
    {
     "data": {
      "image/png": "[encoded data removed]",
      "text/plain": [
       "<Figure size 720x576 with 2 Axes>"
      ]
     },
     "metadata": {
      "needs_background": "light"
     },
     "output_type": "display_data"
    }
   ],
   "source": [
    "corr = df.corr()\n",
    "hm_fig, hm_ax = plt.subplots(figsize=(10,8))\n",
    "mask = np.logical_not(np.tril(np.ones_like(corr, dtype=np.bool)))\n",
    "sns.heatmap(\n",
    "    corr,\n",
    "    annot=True,\n",
    "    mask=mask,\n",
    "    fmt='.3f',\n",
    "    ax=hm_ax,\n",
    "    cmap=sns.light_palette('#9c462f', n_colors=300),\n",
    ")\n",
    "hm_ax.set_xticklabels(hm_ax.get_xticklabels(), rotation=45)\n",
    "hm_ax.set_title('Correlation Plot')\n",
    "hm_ax.patch.set_alpha(0);"
   ]
  },
  {
   "cell_type": "markdown",
   "metadata": {},
   "source": [
    "It is possible to notice the high negative correlation between the feature `0` and the target variable."
   ]
  },
  {
   "cell_type": "markdown",
   "metadata": {},
   "source": [
    "### Target Variable"
   ]
  },
  {
   "cell_type": "code",
   "execution_count": 12,
   "metadata": {},
   "outputs": [
    {
     "data": {
      "text/plain": [
       "<seaborn.axisgrid.FacetGrid at 0x2486246c6a0>"
      ]
     },
     "execution_count": 12,
     "metadata": {},
     "output_type": "execute_result"
    },
    {
     "data": {
      "image/png": "[encoded data removed]",
      "text/plain": [
       "<Figure size 360x360 with 1 Axes>"
      ]
     },
     "metadata": {
      "needs_background": "light"
     },
     "output_type": "display_data"
    }
   ],
   "source": [
    "import seaborn as sns\n",
    "sns.catplot(x=4, kind=\"count\", palette=\"ch:.1\", data=df)"
   ]
  },
  {
   "cell_type": "markdown",
   "metadata": {},
   "source": [
    "We can see that the target feature has to variables and both are comparable in terms of their presence in the dataset. (No noticeable Class Imbalance is present in the data)."
   ]
  },
  {
   "cell_type": "markdown",
   "metadata": {},
   "source": [
    "### Comparison Scatterplots"
   ]
  },
  {
   "cell_type": "code",
   "execution_count": 13,
   "metadata": {},
   "outputs": [
    {
     "data": {
      "image/png": "[encoded data removed]",
      "text/plain": [
       "<Figure size 432x288 with 1 Axes>"
      ]
     },
     "metadata": {
      "needs_background": "light"
     },
     "output_type": "display_data"
    }
   ],
   "source": [
    "plt.scatter(x=df[4], y=df[0], c=df[4])\n",
    "plt.title(\"Variable 0 Vs Target\")\n",
    "plt.xlabel(\"Variable 0\")\n",
    "plt.ylabel(\"Target\")\n",
    "plt.grid(True)\n",
    "plt.show()"
   ]
  },
  {
   "cell_type": "markdown",
   "metadata": {},
   "source": [
    "As it was noticed before, `Variable 0` is the one that offers the highest correlation with the `Feature` variable."
   ]
  },
  {
   "cell_type": "code",
   "execution_count": 14,
   "metadata": {},
   "outputs": [
    {
     "data": {
      "image/png": "[encoded data removed]",
      "text/plain": [
       "<Figure size 432x288 with 1 Axes>"
      ]
     },
     "metadata": {
      "needs_background": "light"
     },
     "output_type": "display_data"
    }
   ],
   "source": [
    "plt.scatter(x=df[4], y=df[1], c=df[4])\n",
    "plt.title(\"Variable 1 Vs Target\")\n",
    "plt.xlabel(\"Variable 1\")\n",
    "plt.ylabel(\"Target\")\n",
    "plt.grid(True)\n",
    "plt.show()"
   ]
  },
  {
   "cell_type": "code",
   "execution_count": 15,
   "metadata": {},
   "outputs": [
    {
     "data": {
      "image/png": "[encoded data removed]",
      "text/plain": [
       "<Figure size 432x288 with 1 Axes>"
      ]
     },
     "metadata": {
      "needs_background": "light"
     },
     "output_type": "display_data"
    }
   ],
   "source": [
    "plt.scatter(x=df[4], y=df[2], c=df[4])\n",
    "plt.title(\"Variable 2 Vs Target\")\n",
    "plt.xlabel(\"Variable 2\")\n",
    "plt.ylabel(\"Target\")\n",
    "plt.grid(True)\n",
    "plt.show()"
   ]
  },
  {
   "cell_type": "code",
   "execution_count": 16,
   "metadata": {},
   "outputs": [
    {
     "data": {
      "image/png": "[encoded data removed]",
      "text/plain": [
       "<Figure size 432x288 with 1 Axes>"
      ]
     },
     "metadata": {
      "needs_background": "light"
     },
     "output_type": "display_data"
    }
   ],
   "source": [
    "plt.scatter(x=df[4], y=df[3], c=df[4])\n",
    "plt.title(\"Variable 3 Vs Target\")\n",
    "plt.xlabel(\"Variable 3\")\n",
    "plt.ylabel(\"Target\")\n",
    "plt.grid(True)\n",
    "plt.show()"
   ]
  },
  {
   "cell_type": "markdown",
   "metadata": {},
   "source": [
    "The `Variable 3` appers to be uncorrelated to the `Feature` Variable."
   ]
  },
  {
   "cell_type": "markdown",
   "metadata": {},
   "source": [
    "## Question 1.1: Implement the cost function cost/objective function:\n",
    "<img src=\"https://miro.medium.com/max/688/1*JAS6rUTO7TDlrv4XZSMbsA.png\" alt=\"drawing\" width=\"600\"/>\n"
   ]
  },
  {
   "cell_type": "code",
   "execution_count": 17,
   "metadata": {},
   "outputs": [],
   "source": [
    "# def compute_cost(W, X, Y,reg_strength=1000):\n",
    "#     # TODO calculate cost function\n",
    "\n",
    "    \n",
    "#     return cost"
   ]
  },
  {
   "cell_type": "code",
   "execution_count": 18,
   "metadata": {},
   "outputs": [],
   "source": [
    "def compute_cost(W, X, Y, reg_strength=1000):\n",
    "    # calculate hinge loss\n",
    "    N = X.shape[0]\n",
    "    distances = 1 - Y * (np.dot(X, W))\n",
    "    distances[distances < 0] = 0  # equivalent to max(0, distance)\n",
    "    hinge_loss = reg_strength * np.sum(distances) / N\n",
    "    \n",
    "    cost = 1 / 2 * np.dot(W, W) + hinge_loss\n",
    "    return cost"
   ]
  },
  {
   "cell_type": "markdown",
   "metadata": {},
   "source": [
    "## Question 1.2: Write a method that calculate the cost gradient:\n",
    "<img src=\"https://miro.medium.com/max/866/1*ww3F21VMVGp2NKhm0VTesA.png\" alt=\"drawing\" width=\"600\"/>"
   ]
  },
  {
   "cell_type": "code",
   "execution_count": 19,
   "metadata": {},
   "outputs": [],
   "source": [
    "# def calculate_cost_gradient(W, X_batch, Y_batch, reg_strength=1000):\n",
    "#     distance = #TO DO\n",
    "#     dw = #TO DO\n",
    "#     for #TO DO:\n",
    "#         if #TO DO:\n",
    "            \n",
    "#         else:\n",
    "            \n",
    "#     return dw"
   ]
  },
  {
   "cell_type": "code",
   "execution_count": 20,
   "metadata": {},
   "outputs": [],
   "source": [
    "def calculate_cost_gradient(W, X_batch, Y_batch, reg_strength=1000):\n",
    "    \n",
    "    if type(Y_batch) == np.float64:\n",
    "        Y_batch = np.array([Y_batch])\n",
    "        X_batch = np.array([X_batch])\n",
    "        \n",
    "    distance = 1 - (Y_batch * np.dot(X_batch, W))\n",
    "    dw = np.zeros(len(W))\n",
    "    for ind, d in enumerate(distance):\n",
    "        if max(0, d) == 0:\n",
    "            di = W\n",
    "        else:\n",
    "            di = W - (regularization_strength * Y_batch[ind] * X_batch[ind])\n",
    "        dw += di\n",
    "\n",
    "    dw = dw/len(Y_batch)\n",
    "    return dw"
   ]
  },
  {
   "cell_type": "markdown",
   "metadata": {},
   "source": [
    "## Question 1.3: Write a method that performs stochastic Gradient descent as follows:\n",
    "- Caluclate the gradient of cost function i.e. ∇J(w)\n",
    "- Update the weights in the opposite direction to the gradient: w = w — ∝(∇J(w))\n",
    "- Repeat until conversion or until 5000 epochs are reached"
   ]
  },
  {
   "cell_type": "code",
   "execution_count": 21,
   "metadata": {},
   "outputs": [],
   "source": [
    "# def sgd(data, outputs, learning_rate = 0.0001, max_epochs = 5000):\n",
    "#     weights = #TO DO\n",
    "#     nth = #TO DO\n",
    "#     prev_cost = #TO DO\n",
    "#     cost_threshold = 0.01  # in percent\n",
    "#     # stochastic gradient descent\n",
    "#     for epoch in range(1, max_epochs):\n",
    "#         # shuffle to prevent repeating update cycles\n",
    "#         X, Y = #TO DO\n",
    "#         for ind, x in enumerate(X):#TO DO\n",
    "#             ascent = #TO DO\n",
    "#             weights = #TO DO\n",
    "#             # convergence check on 2^nth epoch\n",
    "#             if epoch == #TO DO\n",
    "#                 cost = #TO DO\n",
    "#                 print(\"Epoch is:{} and Cost is: {}\".format(epoch, cost))\n",
    "#                 # stoppage criterion\n",
    "#                 if #TO DO:\n",
    "#                     return weights\n",
    "#                 prev_cost = #TO DO\n",
    "               \n",
    "#     return weights"
   ]
  },
  {
   "cell_type": "code",
   "execution_count": 22,
   "metadata": {},
   "outputs": [],
   "source": [
    "def sgd(data, outputs, learning_rate = 0.0001, max_epochs = 5000):\n",
    "    weights = np.zeros(features.shape[1])\n",
    "    nth = 0\n",
    "    prev_cost = float(\"inf\")\n",
    "    cost_threshold = 0.01  # in percent\n",
    "    # stochastic gradient descent\n",
    "    for epoch in range(1, max_epochs):\n",
    "        # shuffle to prevent repeating update cycles\n",
    "        X, Y = shuffle(features, outputs)\n",
    "        for ind, x in enumerate(X):#TO DO\n",
    "            ascent = calculate_cost_gradient(weights, x, Y[ind])\n",
    "            weights = weights - (learning_rate * ascent) \n",
    "            # convergence check on 2^nth epoch\n",
    "        if epoch == 2 ** nth or epoch == max_epochs - 1:\n",
    "            cost = compute_cost(weights, features, outputs)\n",
    "            print(\"Epoch is:{} and Cost is: {}\".format(epoch, cost))\n",
    "            # stoppage criterion\n",
    "            if abs(prev_cost - cost) < cost_threshold * prev_cost:\n",
    "                return weights\n",
    "            prev_cost = cost\n",
    "            nth += 1\n",
    "               \n",
    "    return weights"
   ]
  },
  {
   "cell_type": "markdown",
   "metadata": {},
   "source": [
    "# Dataset"
   ]
  },
  {
   "cell_type": "code",
   "execution_count": 23,
   "metadata": {},
   "outputs": [],
   "source": [
    "data = pd.read_csv('data_banknote_authentication.csv', header = None)\n",
    "\n",
    "Y = data.iloc[:, -1]  \n",
    "X = data.iloc[:, 0:3]\n",
    "#X.insert(loc=len(X.columns), column='intercept', value=1)\n",
    "\n",
    "X_train, X_test, y_train, y_test = train_test_split(X, Y, test_size=0.2, random_state=42)"
   ]
  },
  {
   "cell_type": "code",
   "execution_count": 24,
   "metadata": {},
   "outputs": [
    {
     "data": {
      "text/plain": [
       "0    0\n",
       "1    0\n",
       "2    0\n",
       "3    0\n",
       "4    0\n",
       "Name: 4, dtype: int64"
      ]
     },
     "execution_count": 24,
     "metadata": {},
     "output_type": "execute_result"
    }
   ],
   "source": [
    "Y.head()"
   ]
  },
  {
   "cell_type": "code",
   "execution_count": 25,
   "metadata": {},
   "outputs": [
    {
     "data": {
      "text/html": [
       "<div>\n",
       "<style scoped>\n",
       "    .dataframe tbody tr th:only-of-type {\n",
       "        vertical-align: middle;\n",
       "    }\n",
       "\n",
       "    .dataframe tbody tr th {\n",
       "        vertical-align: top;\n",
       "    }\n",
       "\n",
       "    .dataframe thead th {\n",
       "        text-align: right;\n",
       "    }\n",
       "</style>\n",
       "<table border=\"1\" class=\"dataframe\">\n",
       "  <thead>\n",
       "    <tr style=\"text-align: right;\">\n",
       "      <th></th>\n",
       "      <th>0</th>\n",
       "      <th>1</th>\n",
       "      <th>2</th>\n",
       "    </tr>\n",
       "  </thead>\n",
       "  <tbody>\n",
       "    <tr>\n",
       "      <th>0</th>\n",
       "      <td>3.62160</td>\n",
       "      <td>8.6661</td>\n",
       "      <td>-2.8073</td>\n",
       "    </tr>\n",
       "    <tr>\n",
       "      <th>1</th>\n",
       "      <td>4.54590</td>\n",
       "      <td>8.1674</td>\n",
       "      <td>-2.4586</td>\n",
       "    </tr>\n",
       "    <tr>\n",
       "      <th>2</th>\n",
       "      <td>3.86600</td>\n",
       "      <td>-2.6383</td>\n",
       "      <td>1.9242</td>\n",
       "    </tr>\n",
       "    <tr>\n",
       "      <th>3</th>\n",
       "      <td>3.45660</td>\n",
       "      <td>9.5228</td>\n",
       "      <td>-4.0112</td>\n",
       "    </tr>\n",
       "    <tr>\n",
       "      <th>4</th>\n",
       "      <td>0.32924</td>\n",
       "      <td>-4.4552</td>\n",
       "      <td>4.5718</td>\n",
       "    </tr>\n",
       "  </tbody>\n",
       "</table>\n",
       "</div>"
      ],
      "text/plain": [
       "         0       1       2\n",
       "0  3.62160  8.6661 -2.8073\n",
       "1  4.54590  8.1674 -2.4586\n",
       "2  3.86600 -2.6383  1.9242\n",
       "3  3.45660  9.5228 -4.0112\n",
       "4  0.32924 -4.4552  4.5718"
      ]
     },
     "execution_count": 25,
     "metadata": {},
     "output_type": "execute_result"
    }
   ],
   "source": [
    "X.head()"
   ]
  },
  {
   "cell_type": "markdown",
   "metadata": {},
   "source": [
    "## Question 4: Train and evaluate an SVC using the banknote_authentication data"
   ]
  },
  {
   "cell_type": "code",
   "execution_count": 26,
   "metadata": {},
   "outputs": [],
   "source": [
    "# # train the model\n",
    "# print(\"training started...\")\n",
    "# W = sgd(X_train.to_numpy(), y_train.to_numpy())\n",
    "# print(\"training finished.\")\n",
    "# print(\"weights are: {}\".format(W))"
   ]
  },
  {
   "cell_type": "code",
   "execution_count": 27,
   "metadata": {},
   "outputs": [],
   "source": [
    "# # testing the model on test set\n",
    "# y_test_predicted = np.array([])\n",
    "# for i in range(X_test.shape[0]):\n",
    "#     yp = np.sign(np.dot(W, X_test.to_numpy()[i]))\n",
    "#     y_test_predicted = np.append(y_test_predicted, yp)print(\"accuracy on test dataset: {}\".format(accuracy_score(y_test.to_numpy(), y_test_predicted)))\n",
    "# print(\"accuracy on test dataset: {}\".format(accuracy_score(y_test.to_numpy(), y_test_predicted)))\n",
    "# print(\"recall on test dataset: {}\".format(recall_score(y_test.to_numpy(), y_test_predicted)))\n",
    "# print(\"precision on test dataset: {}\".format(precision_score(y_test.to_numpy(), y_test_predicted)))"
   ]
  },
  {
   "cell_type": "code",
   "execution_count": 28,
   "metadata": {},
   "outputs": [],
   "source": [
    "# # inside init()# testing the model on test set\n",
    "# y_test_predicted = np.array([])\n",
    "# for i in range(X_test.shape[0]):\n",
    "#     yp = np.sign(np.dot(W, X_test.to_numpy()[i])) #model\n",
    "#     y_test_predicted = np.append(y_test_predicted, yp)print(\"accuracy on test dataset: {}\".format(accuracy_score(y_test.to_numpy(), y_test_predicted)))\n",
    "# print(\"recall on test dataset: {}\".format(recall_score(y_test.to_numpy(), y_test_predicted)))\n",
    "# print(\"precision on test dataset: {}\".format(recall_score(y_test.to_numpy(), y_test_predicted)))"
   ]
  },
  {
   "cell_type": "code",
   "execution_count": 29,
   "metadata": {},
   "outputs": [],
   "source": [
    "# # set hyper-parameters and call init\n",
    "# # hyper-parameters are normally tuned using cross-validation\n",
    "# # but following work good enough\n",
    "# reg_strength = 10000 # regularization strength\n",
    "# learning_rate = 0.000001\n",
    "# init()"
   ]
  },
  {
   "cell_type": "markdown",
   "metadata": {},
   "source": [
    "## [Bonus] Question 5: Train and evaluate an SKLEARN SVC model, and compare the results to your model. [Sklearn](https://scikit-learn.org/stable/modules/generated/sklearn.svm.SVC.html)"
   ]
  },
  {
   "cell_type": "code",
   "execution_count": 30,
   "metadata": {},
   "outputs": [],
   "source": [
    "from sklearn.svm import SVC"
   ]
  },
  {
   "cell_type": "markdown",
   "metadata": {},
   "source": [
    "### Hyperparameters "
   ]
  },
  {
   "cell_type": "code",
   "execution_count": 31,
   "metadata": {},
   "outputs": [
    {
     "name": "stdout",
     "output_type": "stream",
     "text": [
      "Fitting 10 folds for each of 24 candidates, totalling 240 fits\n"
     ]
    },
    {
     "name": "stderr",
     "output_type": "stream",
     "text": [
      "C:\\Users\\rodol\\Anaconda3\\lib\\site-packages\\sklearn\\model_selection\\_search.py:918: UserWarning: One or more of the test scores are non-finite: [       nan        nan        nan        nan 0.99177648 0.91251877\n",
      " 0.98359466 0.69281068 0.99177648 0.95441201 0.98359466 0.68096747\n",
      " 0.98814012 0.96170976 0.98633862 0.67733945 0.98723103 0.96444537\n",
      " 0.98724771 0.67641368 0.98723103 0.9653628  0.98906589 0.6745955 ]\n",
      "  warnings.warn(\n"
     ]
    },
    {
     "data": {
      "text/plain": [
       "GridSearchCV(cv=10, estimator=SVC(), n_jobs=-1,\n",
       "             param_grid={'C': [0, 0.2, 0.4, 0.6, 0.8, 1],\n",
       "                         'kernel': ['linear', 'poly', 'rbf', 'sigmoid'],\n",
       "                         'probability': [True]},\n",
       "             verbose=2)"
      ]
     },
     "execution_count": 31,
     "metadata": {},
     "output_type": "execute_result"
    }
   ],
   "source": [
    "parameters = {\"C\": [0, 0.2, 0.4, 0.6, 0.8, 1],\n",
    "              \"kernel\": ['linear', 'poly', 'rbf', 'sigmoid'],\n",
    "              \"probability\": [True]}\n",
    "\n",
    "svm_base = SVC()\n",
    "\n",
    "svm_grid = GridSearchCV(estimator = svm_base, param_grid = parameters,\n",
    "                        cv = 10, verbose = 2, n_jobs = -1)\n",
    "svm_grid.fit(X_train, y_train)"
   ]
  },
  {
   "cell_type": "markdown",
   "metadata": {},
   "source": [
    "#### Best Hyperparameters"
   ]
  },
  {
   "cell_type": "code",
   "execution_count": 32,
   "metadata": {},
   "outputs": [
    {
     "data": {
      "text/plain": [
       "{'C': 0.2, 'kernel': 'linear', 'probability': True}"
      ]
     },
     "execution_count": 32,
     "metadata": {},
     "output_type": "execute_result"
    }
   ],
   "source": [
    "best_params = svm_grid.best_params_\n",
    "best_params"
   ]
  },
  {
   "cell_type": "markdown",
   "metadata": {},
   "source": [
    "### Performance in Test Data"
   ]
  },
  {
   "cell_type": "code",
   "execution_count": 33,
   "metadata": {},
   "outputs": [],
   "source": [
    "# make predictions with the trained random forest\n",
    "test_svm = svm_grid.predict(X_test)\n",
    "test_svm_prob = svm_grid.predict_proba(X_test)"
   ]
  },
  {
   "cell_type": "code",
   "execution_count": 34,
   "metadata": {},
   "outputs": [],
   "source": [
    "def performance_values(X_test, y_test, trained_model):\n",
    "    from sklearn import preprocessing, metrics\n",
    "    from sklearn.metrics import accuracy_score, recall_score, precision_score, roc_curve, roc_auc_score\n",
    "    \n",
    "    y_pred = trained_model.predict(X_test)\n",
    "    accuracy = accuracy_score(y_test, y_pred)\n",
    "    recall = recall_score(y_test, y_pred)\n",
    "    precision = precision_score(y_test, y_pred)\n",
    "    probs = trained_model.predict_proba(X_test)\n",
    "    preds = probs[:,1]\n",
    "    fpr, tpr, threshold = metrics.roc_curve(y_test, preds)\n",
    "    roc_auc = metrics.roc_auc_score(y_test, preds)\n",
    "    return (fpr, tpr, accuracy, recall, precision, roc_auc)"
   ]
  },
  {
   "cell_type": "code",
   "execution_count": 35,
   "metadata": {},
   "outputs": [],
   "source": [
    "def ROC_curve(fpr,tpr,roc_auc):\n",
    "    plt.title('Receiver Operating Characteristic')\n",
    "    plt.plot(fpr, tpr, 'b', label = 'AUC = %0.2f' % roc_auc)\n",
    "    plt.legend(loc = 'lower right')\n",
    "    plt.plot([0, 1], [0, 1],'r--')\n",
    "    plt.xlim([0, 1])\n",
    "    plt.ylim([0, 1])\n",
    "    plt.ylabel('True Positive Rate')\n",
    "    plt.xlabel('False Positive Rate')\n",
    "    plt.show()"
   ]
  },
  {
   "cell_type": "code",
   "execution_count": 36,
   "metadata": {},
   "outputs": [
    {
     "name": "stdout",
     "output_type": "stream",
     "text": [
      "Accuracy: 0.9854545454545455\n",
      "Recall: 0.984251968503937\n",
      "Precision: 0.984251968503937\n",
      "AUC: 0.9994679719089167\n"
     ]
    }
   ],
   "source": [
    "fpr, tpr, svm_acc, svm_rec, svm_prec, svm_auc = performance_values(X_test, y_test, svm_grid)\n",
    "print(\"Accuracy: {}\".format(svm_acc))\n",
    "print(\"Recall: {}\".format(svm_rec))\n",
    "print(\"Precision: {}\".format(svm_prec))\n",
    "print(\"AUC: {}\".format(svm_auc))"
   ]
  },
  {
   "cell_type": "code",
   "execution_count": 37,
   "metadata": {},
   "outputs": [
    {
     "data": {
      "image/png": "[encoded data removed]",
      "text/plain": [
       "<Figure size 432x288 with 1 Axes>"
      ]
     },
     "metadata": {
      "needs_background": "light"
     },
     "output_type": "display_data"
    }
   ],
   "source": [
    "ROC_curve(fpr,tpr,svm_auc)"
   ]
  },
  {
   "cell_type": "markdown",
   "metadata": {},
   "source": [
    "## Question 7: Create a new text cell in your Notebook: Complete a 50-100 word summary (or short description of your thinking in applying this week's learning to the solution) of your experience in this assignment. Include: \n",
    "- What was your incoming experience with this model, if any? \n",
    "- What steps you took, what obstacles you encountered?\n",
    "- How you link this exercise to real-world, machine learning problem-solving. \n",
    "- What steps were missing? What else do you need to learn?"
   ]
  },
  {
   "cell_type": "code",
   "execution_count": null,
   "metadata": {},
   "outputs": [],
   "source": []
  },
  {
   "cell_type": "code",
   "execution_count": 38,
   "metadata": {},
   "outputs": [],
   "source": [
    "# import numpy as np\n",
    "# import pandas as pd\n",
    "# import statsmodels.api as sm\n",
    "# from sklearn.preprocessing import MinMaxScaler\n",
    "# from sklearn.model_selection import train_test_split as tts\n",
    "# from sklearn.metrics import accuracy_score, recall_score, precision_score\n",
    "# from sklearn.utils import shuffle\n",
    "\n",
    "\n",
    "# # >> FEATURE SELECTION << #\n",
    "# def remove_correlated_features(X):\n",
    "#     corr_threshold = 0.9\n",
    "#     corr = X.corr()\n",
    "#     drop_columns = np.full(corr.shape[0], False, dtype=bool)\n",
    "#     for i in range(corr.shape[0]):\n",
    "#         for j in range(i + 1, corr.shape[0]):\n",
    "#             if corr.iloc[i, j] >= corr_threshold:\n",
    "#                 drop_columns[j] = True\n",
    "#     columns_dropped = X.columns[drop_columns]\n",
    "#     X.drop(columns_dropped, axis=1, inplace=True)\n",
    "#     return columns_dropped\n",
    "\n",
    "\n",
    "# def remove_less_significant_features(X, Y):\n",
    "#     sl = 0.05\n",
    "#     regression_ols = None\n",
    "#     columns_dropped = np.array([])\n",
    "#     for itr in range(0, len(X.columns)):\n",
    "#         regression_ols = sm.OLS(Y, X).fit()\n",
    "#         max_col = regression_ols.pvalues.idxmax()\n",
    "#         max_val = regression_ols.pvalues.max()\n",
    "#         if max_val > sl:\n",
    "#             X.drop(max_col, axis='columns', inplace=True)\n",
    "#             columns_dropped = np.append(columns_dropped, [max_col])\n",
    "#         else:\n",
    "#             break\n",
    "#     regression_ols.summary()\n",
    "#     return columns_dropped\n",
    "\n",
    "\n",
    "# ##############################\n",
    "\n",
    "\n",
    "# # >> MODEL TRAINING << #\n",
    "# def compute_cost(W, X, Y):\n",
    "#     # calculate hinge loss\n",
    "#     N = X.shape[0]\n",
    "#     distances = 1 - Y * (np.dot(X, W))\n",
    "#     distances[distances < 0] = 0  # equivalent to max(0, distance)\n",
    "#     hinge_loss = regularization_strength * (np.sum(distances) / N)\n",
    "\n",
    "#     # calculate cost\n",
    "#     cost = 1 / 2 * np.dot(W, W) + hinge_loss\n",
    "#     return cost\n",
    "\n",
    "\n",
    "# # I haven't tested it but this same function should work for\n",
    "# # vanilla and mini-batch gradient descent as well\n",
    "# def calculate_cost_gradient(W, X_batch, Y_batch):\n",
    "#     # if only one example is passed (eg. in case of SGD)\n",
    "#     if type(Y_batch) == np.float64:\n",
    "#         Y_batch = np.array([Y_batch])\n",
    "#         X_batch = np.array([X_batch])  # gives multidimensional array\n",
    "\n",
    "#     distance = 1 - (Y_batch * np.dot(X_batch, W))\n",
    "#     dw = np.zeros(len(W))\n",
    "\n",
    "#     for ind, d in enumerate(distance):\n",
    "#         if max(0, d) == 0:\n",
    "#             di = W\n",
    "#         else:\n",
    "#             di = W - (regularization_strength * Y_batch[ind] * X_batch[ind])\n",
    "#         dw += di\n",
    "\n",
    "#     dw = dw/len(Y_batch)  # average\n",
    "#     return dw\n",
    "\n",
    "\n",
    "# def sgd(features, outputs):\n",
    "#     max_epochs = 5000\n",
    "#     weights = np.zeros(features.shape[1])\n",
    "#     nth = 0\n",
    "#     prev_cost = float(\"inf\")\n",
    "#     cost_threshold = 0.01  # in percent\n",
    "#     # stochastic gradient descent\n",
    "#     for epoch in range(1, max_epochs):\n",
    "#         # shuffle to prevent repeating update cycles\n",
    "#         X, Y = shuffle(features, outputs)\n",
    "#         for ind, x in enumerate(X):\n",
    "#             ascent = calculate_cost_gradient(weights, x, Y[ind])\n",
    "#             weights = weights - (learning_rate * ascent)\n",
    "\n",
    "#         # convergence check on 2^nth epoch\n",
    "#         if epoch == 2 ** nth or epoch == max_epochs - 1:\n",
    "#             cost = compute_cost(weights, features, outputs)\n",
    "#             print(\"Epoch is: {} and Cost is: {}\".format(epoch, cost))\n",
    "#             # stoppage criterion\n",
    "#             if abs(prev_cost - cost) < cost_threshold * prev_cost:\n",
    "#                 return weights\n",
    "#             prev_cost = cost\n",
    "#             nth += 1\n",
    "#     return weights\n",
    "\n",
    "\n",
    "# ########################\n",
    "\n",
    "\n",
    "# def init():\n",
    "#     print(\"reading dataset...\")\n",
    "#     # read data in pandas (pd) data frame\n",
    "#     data = pd.read_csv('./data/data.csv')\n",
    "\n",
    "#     # drop last column (extra column added by pd)\n",
    "#     # and unnecessary first column (id)\n",
    "#     data.drop(data.columns[[-1, 0]], axis=1, inplace=True)\n",
    "\n",
    "#     print(\"applying feature engineering...\")\n",
    "#     # convert categorical labels to numbers\n",
    "#     diag_map = {'M': 1.0, 'B': -1.0}\n",
    "#     data['diagnosis'] = data['diagnosis'].map(diag_map)\n",
    "\n",
    "#     # put features & outputs in different data frames\n",
    "#     Y = data.loc[:, 'diagnosis']\n",
    "#     X = data.iloc[:, 1:]\n",
    "\n",
    "#     # filter features\n",
    "#     remove_correlated_features(X)\n",
    "#     remove_less_significant_features(X, Y)\n",
    "\n",
    "#     # normalize data for better convergence and to prevent overflow\n",
    "#     X_normalized = MinMaxScaler().fit_transform(X.values)\n",
    "#     X = pd.DataFrame(X_normalized)\n",
    "\n",
    "#     # insert 1 in every row for intercept b\n",
    "#     X.insert(loc=len(X.columns), column='intercept', value=1)\n",
    "\n",
    "#     # split data into train and test set\n",
    "#     print(\"splitting dataset into train and test sets...\")\n",
    "#     X_train, X_test, y_train, y_test = tts(X, Y, test_size=0.2, random_state=42)\n",
    "\n",
    "#     # train the model\n",
    "#     print(\"training started...\")\n",
    "#     W = sgd(X_train.to_numpy(), y_train.to_numpy())\n",
    "#     print(\"training finished.\")\n",
    "#     print(\"weights are: {}\".format(W))\n",
    "\n",
    "#     # testing the model\n",
    "#     print(\"testing the model...\")\n",
    "#     y_train_predicted = np.array([])\n",
    "#     for i in range(X_train.shape[0]):\n",
    "#         yp = np.sign(np.dot(X_train.to_numpy()[i], W))\n",
    "#         y_train_predicted = np.append(y_train_predicted, yp)\n",
    "\n",
    "#     y_test_predicted = np.array([])\n",
    "#     for i in range(X_test.shape[0]):\n",
    "#         yp = np.sign(np.dot(X_test.to_numpy()[i], W))\n",
    "#         y_test_predicted = np.append(y_test_predicted, yp)\n",
    "\n",
    "#     print(\"accuracy on test dataset: {}\".format(accuracy_score(y_test, y_test_predicted)))\n",
    "#     print(\"recall on test dataset: {}\".format(recall_score(y_test, y_test_predicted)))\n",
    "#     print(\"precision on test dataset: {}\".format(recall_score(y_test, y_test_predicted)))\n",
    "\n",
    "\n",
    "# # set hyper-parameters and call init\n",
    "# regularization_strength = 10000\n",
    "# learning_rate = 0.000001\n",
    "# init()"
   ]
  },
  {
   "cell_type": "markdown",
   "metadata": {},
   "source": [
    "[Example](https://towardsdatascience.com/svm-implementation-from-scratch-python-2db2fc52e5c2#72a3)"
   ]
  }
 ],
 "metadata": {
  "kernelspec": {
   "display_name": "Python 3",
   "language": "python",
   "name": "python3"
  },
  "language_info": {
   "codemirror_mode": {
    "name": "ipython",
    "version": 3
   },
   "file_extension": ".py",
   "mimetype": "text/x-python",
   "name": "python",
   "nbconvert_exporter": "python",
   "pygments_lexer": "ipython3",
   "version": "3.8.8"
  }
 },
 "nbformat": 4,
 "nbformat_minor": 2
}
